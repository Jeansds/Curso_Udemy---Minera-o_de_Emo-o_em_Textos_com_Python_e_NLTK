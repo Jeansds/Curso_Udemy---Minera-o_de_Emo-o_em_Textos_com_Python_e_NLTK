{
  "nbformat": 4,
  "nbformat_minor": 0,
  "metadata": {
    "colab": {
      "name": "Exmplo_Pré_Processamento_Texto",
      "provenance": [],
      "authorship_tag": "ABX9TyO/djbl/QOCMGQHXgVX45w+",
      "include_colab_link": true
    },
    "kernelspec": {
      "name": "python3",
      "display_name": "Python 3"
    }
  },
  "cells": [
    {
      "cell_type": "markdown",
      "metadata": {
        "id": "view-in-github",
        "colab_type": "text"
      },
      "source": [
        "<a href=\"https://colab.research.google.com/github/Jeansds/Curso_Udemy---Mineracao_de_Emocoes_em_Textos_com_Python_e_NLTK/blob/master/Exmplo_Pr%C3%A9_Processamento_Texto.ipynb\" target=\"_parent\"><img src=\"https://colab.research.google.com/assets/colab-badge.svg\" alt=\"Open In Colab\"/></a>"
      ]
    },
    {
      "cell_type": "code",
      "metadata": {
        "id": "KMoCN_ddNIBG",
        "colab_type": "code",
        "outputId": "38102c07-06af-4291-b80c-5da3207dfd8b",
        "colab": {
          "base_uri": "https://localhost:8080/",
          "height": 51
        }
      },
      "source": [
        "!pip install nltk"
      ],
      "execution_count": 1,
      "outputs": [
        {
          "output_type": "stream",
          "text": [
            "Requirement already satisfied: nltk in /usr/local/lib/python3.6/dist-packages (3.2.5)\n",
            "Requirement already satisfied: six in /usr/local/lib/python3.6/dist-packages (from nltk) (1.12.0)\n"
          ],
          "name": "stdout"
        }
      ]
    },
    {
      "cell_type": "code",
      "metadata": {
        "id": "wXcTk7mwPpos",
        "colab_type": "code",
        "colab": {}
      },
      "source": [
        "import nltk"
      ],
      "execution_count": 0,
      "outputs": []
    },
    {
      "cell_type": "code",
      "metadata": {
        "id": "bgeF-QwiNkXm",
        "colab_type": "code",
        "colab": {}
      },
      "source": [
        "base = [('eu sou admirada por muitos','alegria'),\n",
        "        ('me sinto completamente amado','alegria'),\n",
        "        ('amar e maravilhoso','alegria'),\n",
        "        ('estou me sentindo muito animado novamente','alegria'),\n",
        "        ('eu estou muito bem hoje','alegria'),\n",
        "        ('que belo dia para dirigir um carro novo','alegria'),\n",
        "        ('o dia está muito bonito','alegria'),\n",
        "        ('estou contente com o resultado do teste que fiz no dia de ontem','alegria'),\n",
        "        ('o amor e lindo','alegria'),\n",
        "        ('nossa amizade e amor vai durar para sempre', 'alegria'),\n",
        "        ('estou amedrontado', 'medo'),\n",
        "        ('ele esta me ameacando a dias', 'medo'),\n",
        "        ('isso me deixa apavorada', 'medo'),\n",
        "        ('este lugar e apavorante', 'medo'),\n",
        "        ('se perdermos outro jogo seremos eliminados e isso me deixa com pavor', 'medo'),\n",
        "        ('tome cuidado com o lobisomem', 'medo'),\n",
        "        ('se eles descobrirem estamos encrencados', 'medo'),\n",
        "        ('estou tremendo de medo', 'medo'),\n",
        "        ('eu tenho muito medo dele', 'medo'),\n",
        "        ('estou com medo do resultado dos meus testes', 'medo')]"
      ],
      "execution_count": 0,
      "outputs": []
    },
    {
      "cell_type": "code",
      "metadata": {
        "id": "UNZ5FwQJP_Lz",
        "colab_type": "code",
        "outputId": "e4200f74-5a8b-4217-988c-b0eb7e3f2a39",
        "colab": {
          "base_uri": "https://localhost:8080/",
          "height": 1000
        }
      },
      "source": [
        "nltk.download('rslp')\n",
        "nltk.download('stopwords')\n",
        "stopwordsnltk = nltk.corpus.stopwords.words('portuguese')\n",
        "stopwordsnltk"
      ],
      "execution_count": 4,
      "outputs": [
        {
          "output_type": "stream",
          "text": [
            "[nltk_data] Downloading package rslp to /root/nltk_data...\n",
            "[nltk_data]   Unzipping stemmers/rslp.zip.\n",
            "[nltk_data] Downloading package stopwords to /root/nltk_data...\n",
            "[nltk_data]   Package stopwords is already up-to-date!\n"
          ],
          "name": "stdout"
        },
        {
          "output_type": "execute_result",
          "data": {
            "text/plain": [
              "['de',\n",
              " 'a',\n",
              " 'o',\n",
              " 'que',\n",
              " 'e',\n",
              " 'é',\n",
              " 'do',\n",
              " 'da',\n",
              " 'em',\n",
              " 'um',\n",
              " 'para',\n",
              " 'com',\n",
              " 'não',\n",
              " 'uma',\n",
              " 'os',\n",
              " 'no',\n",
              " 'se',\n",
              " 'na',\n",
              " 'por',\n",
              " 'mais',\n",
              " 'as',\n",
              " 'dos',\n",
              " 'como',\n",
              " 'mas',\n",
              " 'ao',\n",
              " 'ele',\n",
              " 'das',\n",
              " 'à',\n",
              " 'seu',\n",
              " 'sua',\n",
              " 'ou',\n",
              " 'quando',\n",
              " 'muito',\n",
              " 'nos',\n",
              " 'já',\n",
              " 'eu',\n",
              " 'também',\n",
              " 'só',\n",
              " 'pelo',\n",
              " 'pela',\n",
              " 'até',\n",
              " 'isso',\n",
              " 'ela',\n",
              " 'entre',\n",
              " 'depois',\n",
              " 'sem',\n",
              " 'mesmo',\n",
              " 'aos',\n",
              " 'seus',\n",
              " 'quem',\n",
              " 'nas',\n",
              " 'me',\n",
              " 'esse',\n",
              " 'eles',\n",
              " 'você',\n",
              " 'essa',\n",
              " 'num',\n",
              " 'nem',\n",
              " 'suas',\n",
              " 'meu',\n",
              " 'às',\n",
              " 'minha',\n",
              " 'numa',\n",
              " 'pelos',\n",
              " 'elas',\n",
              " 'qual',\n",
              " 'nós',\n",
              " 'lhe',\n",
              " 'deles',\n",
              " 'essas',\n",
              " 'esses',\n",
              " 'pelas',\n",
              " 'este',\n",
              " 'dele',\n",
              " 'tu',\n",
              " 'te',\n",
              " 'vocês',\n",
              " 'vos',\n",
              " 'lhes',\n",
              " 'meus',\n",
              " 'minhas',\n",
              " 'teu',\n",
              " 'tua',\n",
              " 'teus',\n",
              " 'tuas',\n",
              " 'nosso',\n",
              " 'nossa',\n",
              " 'nossos',\n",
              " 'nossas',\n",
              " 'dela',\n",
              " 'delas',\n",
              " 'esta',\n",
              " 'estes',\n",
              " 'estas',\n",
              " 'aquele',\n",
              " 'aquela',\n",
              " 'aqueles',\n",
              " 'aquelas',\n",
              " 'isto',\n",
              " 'aquilo',\n",
              " 'estou',\n",
              " 'está',\n",
              " 'estamos',\n",
              " 'estão',\n",
              " 'estive',\n",
              " 'esteve',\n",
              " 'estivemos',\n",
              " 'estiveram',\n",
              " 'estava',\n",
              " 'estávamos',\n",
              " 'estavam',\n",
              " 'estivera',\n",
              " 'estivéramos',\n",
              " 'esteja',\n",
              " 'estejamos',\n",
              " 'estejam',\n",
              " 'estivesse',\n",
              " 'estivéssemos',\n",
              " 'estivessem',\n",
              " 'estiver',\n",
              " 'estivermos',\n",
              " 'estiverem',\n",
              " 'hei',\n",
              " 'há',\n",
              " 'havemos',\n",
              " 'hão',\n",
              " 'houve',\n",
              " 'houvemos',\n",
              " 'houveram',\n",
              " 'houvera',\n",
              " 'houvéramos',\n",
              " 'haja',\n",
              " 'hajamos',\n",
              " 'hajam',\n",
              " 'houvesse',\n",
              " 'houvéssemos',\n",
              " 'houvessem',\n",
              " 'houver',\n",
              " 'houvermos',\n",
              " 'houverem',\n",
              " 'houverei',\n",
              " 'houverá',\n",
              " 'houveremos',\n",
              " 'houverão',\n",
              " 'houveria',\n",
              " 'houveríamos',\n",
              " 'houveriam',\n",
              " 'sou',\n",
              " 'somos',\n",
              " 'são',\n",
              " 'era',\n",
              " 'éramos',\n",
              " 'eram',\n",
              " 'fui',\n",
              " 'foi',\n",
              " 'fomos',\n",
              " 'foram',\n",
              " 'fora',\n",
              " 'fôramos',\n",
              " 'seja',\n",
              " 'sejamos',\n",
              " 'sejam',\n",
              " 'fosse',\n",
              " 'fôssemos',\n",
              " 'fossem',\n",
              " 'for',\n",
              " 'formos',\n",
              " 'forem',\n",
              " 'serei',\n",
              " 'será',\n",
              " 'seremos',\n",
              " 'serão',\n",
              " 'seria',\n",
              " 'seríamos',\n",
              " 'seriam',\n",
              " 'tenho',\n",
              " 'tem',\n",
              " 'temos',\n",
              " 'tém',\n",
              " 'tinha',\n",
              " 'tínhamos',\n",
              " 'tinham',\n",
              " 'tive',\n",
              " 'teve',\n",
              " 'tivemos',\n",
              " 'tiveram',\n",
              " 'tivera',\n",
              " 'tivéramos',\n",
              " 'tenha',\n",
              " 'tenhamos',\n",
              " 'tenham',\n",
              " 'tivesse',\n",
              " 'tivéssemos',\n",
              " 'tivessem',\n",
              " 'tiver',\n",
              " 'tivermos',\n",
              " 'tiverem',\n",
              " 'terei',\n",
              " 'terá',\n",
              " 'teremos',\n",
              " 'terão',\n",
              " 'teria',\n",
              " 'teríamos',\n",
              " 'teriam']"
            ]
          },
          "metadata": {
            "tags": []
          },
          "execution_count": 4
        }
      ]
    },
    {
      "cell_type": "code",
      "metadata": {
        "id": "pZsE6tvtOPRZ",
        "colab_type": "code",
        "outputId": "f3c6651b-98cb-4796-8331-e3f6d95f03a0",
        "colab": {
          "base_uri": "https://localhost:8080/",
          "height": 357
        }
      },
      "source": [
        "def removeStopWord(texto):\n",
        "  frases = []\n",
        "  for (palavras, emocao) in texto:\n",
        "    semstop = [p for p in palavras.split() if p not in stopwordsnltk]\n",
        "    frases.append((semstop, emocao))\n",
        "  return frases\n",
        "\n",
        "removeStopWord(base)"
      ],
      "execution_count": 5,
      "outputs": [
        {
          "output_type": "execute_result",
          "data": {
            "text/plain": [
              "[(['admirada', 'muitos'], 'alegria'),\n",
              " (['sinto', 'completamente', 'amado'], 'alegria'),\n",
              " (['amar', 'maravilhoso'], 'alegria'),\n",
              " (['sentindo', 'animado', 'novamente'], 'alegria'),\n",
              " (['bem', 'hoje'], 'alegria'),\n",
              " (['belo', 'dia', 'dirigir', 'carro', 'novo'], 'alegria'),\n",
              " (['dia', 'bonito'], 'alegria'),\n",
              " (['contente', 'resultado', 'teste', 'fiz', 'dia', 'ontem'], 'alegria'),\n",
              " (['amor', 'lindo'], 'alegria'),\n",
              " (['amizade', 'amor', 'vai', 'durar', 'sempre'], 'alegria'),\n",
              " (['amedrontado'], 'medo'),\n",
              " (['ameacando', 'dias'], 'medo'),\n",
              " (['deixa', 'apavorada'], 'medo'),\n",
              " (['lugar', 'apavorante'], 'medo'),\n",
              " (['perdermos', 'outro', 'jogo', 'eliminados', 'deixa', 'pavor'], 'medo'),\n",
              " (['tome', 'cuidado', 'lobisomem'], 'medo'),\n",
              " (['descobrirem', 'encrencados'], 'medo'),\n",
              " (['tremendo', 'medo'], 'medo'),\n",
              " (['medo'], 'medo'),\n",
              " (['medo', 'resultado', 'testes'], 'medo')]"
            ]
          },
          "metadata": {
            "tags": []
          },
          "execution_count": 5
        }
      ]
    },
    {
      "cell_type": "code",
      "metadata": {
        "id": "6h0eW4WiTxw2",
        "colab_type": "code",
        "colab": {
          "base_uri": "https://localhost:8080/",
          "height": 357
        },
        "outputId": "ec54f7f8-2bd0-4f76-96d5-0a88333a9958"
      },
      "source": [
        "def aplicaStemmer(texto):\n",
        "  stemmer = nltk.stem.RSLPStemmer() # RSLPStemmer especifico para portugues e retirar as vogais\n",
        "  frasesStemming = []\n",
        "  for (palavras, emocao) in texto:\n",
        "    comStemming = [str(stemmer.stem(p)) for p in palavras.split() if p not in stopwordsnltk]\n",
        "    frasesStemming.append((comStemming, emocao))\n",
        "  return frasesStemming\n",
        "frasesComStemming = aplicaStemmer(base)\n",
        "frasesComStemming # Melhor forma de dados para mandar para o machine learning porque é o que possui a menor quantidade de amostras com quase o mesmo significado"
      ],
      "execution_count": 9,
      "outputs": [
        {
          "output_type": "execute_result",
          "data": {
            "text/plain": [
              "[(['admir', 'muit'], 'alegria'),\n",
              " (['sint', 'complet', 'am'], 'alegria'),\n",
              " (['am', 'maravilh'], 'alegria'),\n",
              " (['sent', 'anim', 'nov'], 'alegria'),\n",
              " (['bem', 'hoj'], 'alegria'),\n",
              " (['bel', 'dia', 'dirig', 'carr', 'nov'], 'alegria'),\n",
              " (['dia', 'bonit'], 'alegria'),\n",
              " (['cont', 'result', 'test', 'fiz', 'dia', 'ont'], 'alegria'),\n",
              " (['am', 'lind'], 'alegria'),\n",
              " (['amizad', 'am', 'vai', 'dur', 'sempr'], 'alegria'),\n",
              " (['amedront'], 'medo'),\n",
              " (['ameac', 'dia'], 'medo'),\n",
              " (['deix', 'apavor'], 'medo'),\n",
              " (['lug', 'apavor'], 'medo'),\n",
              " (['perd', 'outr', 'jog', 'elimin', 'deix', 'pav'], 'medo'),\n",
              " (['tom', 'cuid', 'lobisom'], 'medo'),\n",
              " (['descobr', 'encrenc'], 'medo'),\n",
              " (['trem', 'med'], 'medo'),\n",
              " (['med'], 'medo'),\n",
              " (['med', 'result', 'test'], 'medo')]"
            ]
          },
          "metadata": {
            "tags": []
          },
          "execution_count": 9
        }
      ]
    },
    {
      "cell_type": "code",
      "metadata": {
        "id": "NJjV86sKXJh3",
        "colab_type": "code",
        "colab": {
          "base_uri": "https://localhost:8080/",
          "height": 969
        },
        "outputId": "c431d5fa-4611-48ed-997f-6b8bcf5c926a"
      },
      "source": [
        "def buscaPalavras(frases):\n",
        "  todaspalavras = []\n",
        "  for (palavras, emocao) in frases:\n",
        "    todaspalavras.extend(palavras)\n",
        "  return todaspalavras\n",
        "palavras = buscaPalavras(frasesComStemming)\n",
        "palavras"
      ],
      "execution_count": 11,
      "outputs": [
        {
          "output_type": "execute_result",
          "data": {
            "text/plain": [
              "['admir',\n",
              " 'muit',\n",
              " 'sint',\n",
              " 'complet',\n",
              " 'am',\n",
              " 'am',\n",
              " 'maravilh',\n",
              " 'sent',\n",
              " 'anim',\n",
              " 'nov',\n",
              " 'bem',\n",
              " 'hoj',\n",
              " 'bel',\n",
              " 'dia',\n",
              " 'dirig',\n",
              " 'carr',\n",
              " 'nov',\n",
              " 'dia',\n",
              " 'bonit',\n",
              " 'cont',\n",
              " 'result',\n",
              " 'test',\n",
              " 'fiz',\n",
              " 'dia',\n",
              " 'ont',\n",
              " 'am',\n",
              " 'lind',\n",
              " 'amizad',\n",
              " 'am',\n",
              " 'vai',\n",
              " 'dur',\n",
              " 'sempr',\n",
              " 'amedront',\n",
              " 'ameac',\n",
              " 'dia',\n",
              " 'deix',\n",
              " 'apavor',\n",
              " 'lug',\n",
              " 'apavor',\n",
              " 'perd',\n",
              " 'outr',\n",
              " 'jog',\n",
              " 'elimin',\n",
              " 'deix',\n",
              " 'pav',\n",
              " 'tom',\n",
              " 'cuid',\n",
              " 'lobisom',\n",
              " 'descobr',\n",
              " 'encrenc',\n",
              " 'trem',\n",
              " 'med',\n",
              " 'med',\n",
              " 'med',\n",
              " 'result',\n",
              " 'test']"
            ]
          },
          "metadata": {
            "tags": []
          },
          "execution_count": 11
        }
      ]
    },
    {
      "cell_type": "code",
      "metadata": {
        "id": "awkSvf8BYVnv",
        "colab_type": "code",
        "colab": {
          "base_uri": "https://localhost:8080/",
          "height": 748
        },
        "outputId": "1a2c327f-1781-4149-9786-e98027afdb2f"
      },
      "source": [
        "def buscaFrequencia(palavras):\n",
        "  palavras = nltk.FreqDist(palavras)\n",
        "  return palavras\n",
        "frequencia = buscaFrequencia(palavras)\n",
        "frequencia.most_common(50)"
      ],
      "execution_count": 12,
      "outputs": [
        {
          "output_type": "execute_result",
          "data": {
            "text/plain": [
              "[('am', 4),\n",
              " ('dia', 4),\n",
              " ('med', 3),\n",
              " ('nov', 2),\n",
              " ('result', 2),\n",
              " ('test', 2),\n",
              " ('deix', 2),\n",
              " ('apavor', 2),\n",
              " ('admir', 1),\n",
              " ('muit', 1),\n",
              " ('sint', 1),\n",
              " ('complet', 1),\n",
              " ('maravilh', 1),\n",
              " ('sent', 1),\n",
              " ('anim', 1),\n",
              " ('bem', 1),\n",
              " ('hoj', 1),\n",
              " ('bel', 1),\n",
              " ('dirig', 1),\n",
              " ('carr', 1),\n",
              " ('bonit', 1),\n",
              " ('cont', 1),\n",
              " ('fiz', 1),\n",
              " ('ont', 1),\n",
              " ('lind', 1),\n",
              " ('amizad', 1),\n",
              " ('vai', 1),\n",
              " ('dur', 1),\n",
              " ('sempr', 1),\n",
              " ('amedront', 1),\n",
              " ('ameac', 1),\n",
              " ('lug', 1),\n",
              " ('perd', 1),\n",
              " ('outr', 1),\n",
              " ('jog', 1),\n",
              " ('elimin', 1),\n",
              " ('pav', 1),\n",
              " ('tom', 1),\n",
              " ('cuid', 1),\n",
              " ('lobisom', 1),\n",
              " ('descobr', 1),\n",
              " ('encrenc', 1),\n",
              " ('trem', 1)]"
            ]
          },
          "metadata": {
            "tags": []
          },
          "execution_count": 12
        }
      ]
    },
    {
      "cell_type": "code",
      "metadata": {
        "id": "2_FnUMliZY_V",
        "colab_type": "code",
        "colab": {
          "base_uri": "https://localhost:8080/",
          "height": 54
        },
        "outputId": "39100e48-621c-491c-9d73-c269d2a1eb4c"
      },
      "source": [
        "def buscaPalavrasUnicas(frequencia):\n",
        "  freq = frequencia.keys()\n",
        "  return freq\n",
        "palavrasUnicas = buscaPalavrasUnicas(frequencia)\n",
        "palavrasUnicas"
      ],
      "execution_count": 13,
      "outputs": [
        {
          "output_type": "execute_result",
          "data": {
            "text/plain": [
              "dict_keys(['admir', 'muit', 'sint', 'complet', 'am', 'maravilh', 'sent', 'anim', 'nov', 'bem', 'hoj', 'bel', 'dia', 'dirig', 'carr', 'bonit', 'cont', 'result', 'test', 'fiz', 'ont', 'lind', 'amizad', 'vai', 'dur', 'sempr', 'amedront', 'ameac', 'deix', 'apavor', 'lug', 'perd', 'outr', 'jog', 'elimin', 'pav', 'tom', 'cuid', 'lobisom', 'descobr', 'encrenc', 'trem', 'med'])"
            ]
          },
          "metadata": {
            "tags": []
          },
          "execution_count": 13
        }
      ]
    },
    {
      "cell_type": "code",
      "metadata": {
        "id": "g-12t6hVaeu1",
        "colab_type": "code",
        "colab": {
          "base_uri": "https://localhost:8080/",
          "height": 748
        },
        "outputId": "f140bf93-e2eb-474c-f161-f135f03e5458"
      },
      "source": [
        "def extratorPalavras(documento):\n",
        "  doc = set(documento)\n",
        "  caracteristicas = {}\n",
        "  for palavras in palavrasUnicas:\n",
        "    caracteristicas['%s' % palavras] = {palavras in doc}\n",
        "  return caracteristicas\n",
        "caracteristicasFrase = extratorPalavras(['am','nov','dia'])\n",
        "caracteristicasFrase"
      ],
      "execution_count": 14,
      "outputs": [
        {
          "output_type": "execute_result",
          "data": {
            "text/plain": [
              "{'admir': {False},\n",
              " 'am': {True},\n",
              " 'ameac': {False},\n",
              " 'amedront': {False},\n",
              " 'amizad': {False},\n",
              " 'anim': {False},\n",
              " 'apavor': {False},\n",
              " 'bel': {False},\n",
              " 'bem': {False},\n",
              " 'bonit': {False},\n",
              " 'carr': {False},\n",
              " 'complet': {False},\n",
              " 'cont': {False},\n",
              " 'cuid': {False},\n",
              " 'deix': {False},\n",
              " 'descobr': {False},\n",
              " 'dia': {True},\n",
              " 'dirig': {False},\n",
              " 'dur': {False},\n",
              " 'elimin': {False},\n",
              " 'encrenc': {False},\n",
              " 'fiz': {False},\n",
              " 'hoj': {False},\n",
              " 'jog': {False},\n",
              " 'lind': {False},\n",
              " 'lobisom': {False},\n",
              " 'lug': {False},\n",
              " 'maravilh': {False},\n",
              " 'med': {False},\n",
              " 'muit': {False},\n",
              " 'nov': {True},\n",
              " 'ont': {False},\n",
              " 'outr': {False},\n",
              " 'pav': {False},\n",
              " 'perd': {False},\n",
              " 'result': {False},\n",
              " 'sempr': {False},\n",
              " 'sent': {False},\n",
              " 'sint': {False},\n",
              " 'test': {False},\n",
              " 'tom': {False},\n",
              " 'trem': {False},\n",
              " 'vai': {False}}"
            ]
          },
          "metadata": {
            "tags": []
          },
          "execution_count": 14
        }
      ]
    },
    {
      "cell_type": "code",
      "metadata": {
        "id": "zbdgG5mcbsfs",
        "colab_type": "code",
        "colab": {
          "base_uri": "https://localhost:8080/",
          "height": 717
        },
        "outputId": "20075b69-3767-4f5e-e27e-c17365cd3862"
      },
      "source": [
        "baseCompleta = nltk.classify.apply_features(extratorPalavras, frasesComStemming)\n",
        "[print(i) for i in baseCompleta]"
      ],
      "execution_count": 19,
      "outputs": [
        {
          "output_type": "stream",
          "text": [
            "({'admir': {True}, 'muit': {True}, 'sint': {False}, 'complet': {False}, 'am': {False}, 'maravilh': {False}, 'sent': {False}, 'anim': {False}, 'nov': {False}, 'bem': {False}, 'hoj': {False}, 'bel': {False}, 'dia': {False}, 'dirig': {False}, 'carr': {False}, 'bonit': {False}, 'cont': {False}, 'result': {False}, 'test': {False}, 'fiz': {False}, 'ont': {False}, 'lind': {False}, 'amizad': {False}, 'vai': {False}, 'dur': {False}, 'sempr': {False}, 'amedront': {False}, 'ameac': {False}, 'deix': {False}, 'apavor': {False}, 'lug': {False}, 'perd': {False}, 'outr': {False}, 'jog': {False}, 'elimin': {False}, 'pav': {False}, 'tom': {False}, 'cuid': {False}, 'lobisom': {False}, 'descobr': {False}, 'encrenc': {False}, 'trem': {False}, 'med': {False}}, 'alegria')\n",
            "({'admir': {False}, 'muit': {False}, 'sint': {True}, 'complet': {True}, 'am': {True}, 'maravilh': {False}, 'sent': {False}, 'anim': {False}, 'nov': {False}, 'bem': {False}, 'hoj': {False}, 'bel': {False}, 'dia': {False}, 'dirig': {False}, 'carr': {False}, 'bonit': {False}, 'cont': {False}, 'result': {False}, 'test': {False}, 'fiz': {False}, 'ont': {False}, 'lind': {False}, 'amizad': {False}, 'vai': {False}, 'dur': {False}, 'sempr': {False}, 'amedront': {False}, 'ameac': {False}, 'deix': {False}, 'apavor': {False}, 'lug': {False}, 'perd': {False}, 'outr': {False}, 'jog': {False}, 'elimin': {False}, 'pav': {False}, 'tom': {False}, 'cuid': {False}, 'lobisom': {False}, 'descobr': {False}, 'encrenc': {False}, 'trem': {False}, 'med': {False}}, 'alegria')\n",
            "({'admir': {False}, 'muit': {False}, 'sint': {False}, 'complet': {False}, 'am': {True}, 'maravilh': {True}, 'sent': {False}, 'anim': {False}, 'nov': {False}, 'bem': {False}, 'hoj': {False}, 'bel': {False}, 'dia': {False}, 'dirig': {False}, 'carr': {False}, 'bonit': {False}, 'cont': {False}, 'result': {False}, 'test': {False}, 'fiz': {False}, 'ont': {False}, 'lind': {False}, 'amizad': {False}, 'vai': {False}, 'dur': {False}, 'sempr': {False}, 'amedront': {False}, 'ameac': {False}, 'deix': {False}, 'apavor': {False}, 'lug': {False}, 'perd': {False}, 'outr': {False}, 'jog': {False}, 'elimin': {False}, 'pav': {False}, 'tom': {False}, 'cuid': {False}, 'lobisom': {False}, 'descobr': {False}, 'encrenc': {False}, 'trem': {False}, 'med': {False}}, 'alegria')\n",
            "({'admir': {False}, 'muit': {False}, 'sint': {False}, 'complet': {False}, 'am': {False}, 'maravilh': {False}, 'sent': {True}, 'anim': {True}, 'nov': {True}, 'bem': {False}, 'hoj': {False}, 'bel': {False}, 'dia': {False}, 'dirig': {False}, 'carr': {False}, 'bonit': {False}, 'cont': {False}, 'result': {False}, 'test': {False}, 'fiz': {False}, 'ont': {False}, 'lind': {False}, 'amizad': {False}, 'vai': {False}, 'dur': {False}, 'sempr': {False}, 'amedront': {False}, 'ameac': {False}, 'deix': {False}, 'apavor': {False}, 'lug': {False}, 'perd': {False}, 'outr': {False}, 'jog': {False}, 'elimin': {False}, 'pav': {False}, 'tom': {False}, 'cuid': {False}, 'lobisom': {False}, 'descobr': {False}, 'encrenc': {False}, 'trem': {False}, 'med': {False}}, 'alegria')\n",
            "({'admir': {False}, 'muit': {False}, 'sint': {False}, 'complet': {False}, 'am': {False}, 'maravilh': {False}, 'sent': {False}, 'anim': {False}, 'nov': {False}, 'bem': {True}, 'hoj': {True}, 'bel': {False}, 'dia': {False}, 'dirig': {False}, 'carr': {False}, 'bonit': {False}, 'cont': {False}, 'result': {False}, 'test': {False}, 'fiz': {False}, 'ont': {False}, 'lind': {False}, 'amizad': {False}, 'vai': {False}, 'dur': {False}, 'sempr': {False}, 'amedront': {False}, 'ameac': {False}, 'deix': {False}, 'apavor': {False}, 'lug': {False}, 'perd': {False}, 'outr': {False}, 'jog': {False}, 'elimin': {False}, 'pav': {False}, 'tom': {False}, 'cuid': {False}, 'lobisom': {False}, 'descobr': {False}, 'encrenc': {False}, 'trem': {False}, 'med': {False}}, 'alegria')\n",
            "({'admir': {False}, 'muit': {False}, 'sint': {False}, 'complet': {False}, 'am': {False}, 'maravilh': {False}, 'sent': {False}, 'anim': {False}, 'nov': {True}, 'bem': {False}, 'hoj': {False}, 'bel': {True}, 'dia': {True}, 'dirig': {True}, 'carr': {True}, 'bonit': {False}, 'cont': {False}, 'result': {False}, 'test': {False}, 'fiz': {False}, 'ont': {False}, 'lind': {False}, 'amizad': {False}, 'vai': {False}, 'dur': {False}, 'sempr': {False}, 'amedront': {False}, 'ameac': {False}, 'deix': {False}, 'apavor': {False}, 'lug': {False}, 'perd': {False}, 'outr': {False}, 'jog': {False}, 'elimin': {False}, 'pav': {False}, 'tom': {False}, 'cuid': {False}, 'lobisom': {False}, 'descobr': {False}, 'encrenc': {False}, 'trem': {False}, 'med': {False}}, 'alegria')\n",
            "({'admir': {False}, 'muit': {False}, 'sint': {False}, 'complet': {False}, 'am': {False}, 'maravilh': {False}, 'sent': {False}, 'anim': {False}, 'nov': {False}, 'bem': {False}, 'hoj': {False}, 'bel': {False}, 'dia': {True}, 'dirig': {False}, 'carr': {False}, 'bonit': {True}, 'cont': {False}, 'result': {False}, 'test': {False}, 'fiz': {False}, 'ont': {False}, 'lind': {False}, 'amizad': {False}, 'vai': {False}, 'dur': {False}, 'sempr': {False}, 'amedront': {False}, 'ameac': {False}, 'deix': {False}, 'apavor': {False}, 'lug': {False}, 'perd': {False}, 'outr': {False}, 'jog': {False}, 'elimin': {False}, 'pav': {False}, 'tom': {False}, 'cuid': {False}, 'lobisom': {False}, 'descobr': {False}, 'encrenc': {False}, 'trem': {False}, 'med': {False}}, 'alegria')\n",
            "({'admir': {False}, 'muit': {False}, 'sint': {False}, 'complet': {False}, 'am': {False}, 'maravilh': {False}, 'sent': {False}, 'anim': {False}, 'nov': {False}, 'bem': {False}, 'hoj': {False}, 'bel': {False}, 'dia': {True}, 'dirig': {False}, 'carr': {False}, 'bonit': {False}, 'cont': {True}, 'result': {True}, 'test': {True}, 'fiz': {True}, 'ont': {True}, 'lind': {False}, 'amizad': {False}, 'vai': {False}, 'dur': {False}, 'sempr': {False}, 'amedront': {False}, 'ameac': {False}, 'deix': {False}, 'apavor': {False}, 'lug': {False}, 'perd': {False}, 'outr': {False}, 'jog': {False}, 'elimin': {False}, 'pav': {False}, 'tom': {False}, 'cuid': {False}, 'lobisom': {False}, 'descobr': {False}, 'encrenc': {False}, 'trem': {False}, 'med': {False}}, 'alegria')\n",
            "({'admir': {False}, 'muit': {False}, 'sint': {False}, 'complet': {False}, 'am': {True}, 'maravilh': {False}, 'sent': {False}, 'anim': {False}, 'nov': {False}, 'bem': {False}, 'hoj': {False}, 'bel': {False}, 'dia': {False}, 'dirig': {False}, 'carr': {False}, 'bonit': {False}, 'cont': {False}, 'result': {False}, 'test': {False}, 'fiz': {False}, 'ont': {False}, 'lind': {True}, 'amizad': {False}, 'vai': {False}, 'dur': {False}, 'sempr': {False}, 'amedront': {False}, 'ameac': {False}, 'deix': {False}, 'apavor': {False}, 'lug': {False}, 'perd': {False}, 'outr': {False}, 'jog': {False}, 'elimin': {False}, 'pav': {False}, 'tom': {False}, 'cuid': {False}, 'lobisom': {False}, 'descobr': {False}, 'encrenc': {False}, 'trem': {False}, 'med': {False}}, 'alegria')\n",
            "({'admir': {False}, 'muit': {False}, 'sint': {False}, 'complet': {False}, 'am': {True}, 'maravilh': {False}, 'sent': {False}, 'anim': {False}, 'nov': {False}, 'bem': {False}, 'hoj': {False}, 'bel': {False}, 'dia': {False}, 'dirig': {False}, 'carr': {False}, 'bonit': {False}, 'cont': {False}, 'result': {False}, 'test': {False}, 'fiz': {False}, 'ont': {False}, 'lind': {False}, 'amizad': {True}, 'vai': {True}, 'dur': {True}, 'sempr': {True}, 'amedront': {False}, 'ameac': {False}, 'deix': {False}, 'apavor': {False}, 'lug': {False}, 'perd': {False}, 'outr': {False}, 'jog': {False}, 'elimin': {False}, 'pav': {False}, 'tom': {False}, 'cuid': {False}, 'lobisom': {False}, 'descobr': {False}, 'encrenc': {False}, 'trem': {False}, 'med': {False}}, 'alegria')\n",
            "({'admir': {False}, 'muit': {False}, 'sint': {False}, 'complet': {False}, 'am': {False}, 'maravilh': {False}, 'sent': {False}, 'anim': {False}, 'nov': {False}, 'bem': {False}, 'hoj': {False}, 'bel': {False}, 'dia': {False}, 'dirig': {False}, 'carr': {False}, 'bonit': {False}, 'cont': {False}, 'result': {False}, 'test': {False}, 'fiz': {False}, 'ont': {False}, 'lind': {False}, 'amizad': {False}, 'vai': {False}, 'dur': {False}, 'sempr': {False}, 'amedront': {True}, 'ameac': {False}, 'deix': {False}, 'apavor': {False}, 'lug': {False}, 'perd': {False}, 'outr': {False}, 'jog': {False}, 'elimin': {False}, 'pav': {False}, 'tom': {False}, 'cuid': {False}, 'lobisom': {False}, 'descobr': {False}, 'encrenc': {False}, 'trem': {False}, 'med': {False}}, 'medo')\n",
            "({'admir': {False}, 'muit': {False}, 'sint': {False}, 'complet': {False}, 'am': {False}, 'maravilh': {False}, 'sent': {False}, 'anim': {False}, 'nov': {False}, 'bem': {False}, 'hoj': {False}, 'bel': {False}, 'dia': {True}, 'dirig': {False}, 'carr': {False}, 'bonit': {False}, 'cont': {False}, 'result': {False}, 'test': {False}, 'fiz': {False}, 'ont': {False}, 'lind': {False}, 'amizad': {False}, 'vai': {False}, 'dur': {False}, 'sempr': {False}, 'amedront': {False}, 'ameac': {True}, 'deix': {False}, 'apavor': {False}, 'lug': {False}, 'perd': {False}, 'outr': {False}, 'jog': {False}, 'elimin': {False}, 'pav': {False}, 'tom': {False}, 'cuid': {False}, 'lobisom': {False}, 'descobr': {False}, 'encrenc': {False}, 'trem': {False}, 'med': {False}}, 'medo')\n",
            "({'admir': {False}, 'muit': {False}, 'sint': {False}, 'complet': {False}, 'am': {False}, 'maravilh': {False}, 'sent': {False}, 'anim': {False}, 'nov': {False}, 'bem': {False}, 'hoj': {False}, 'bel': {False}, 'dia': {False}, 'dirig': {False}, 'carr': {False}, 'bonit': {False}, 'cont': {False}, 'result': {False}, 'test': {False}, 'fiz': {False}, 'ont': {False}, 'lind': {False}, 'amizad': {False}, 'vai': {False}, 'dur': {False}, 'sempr': {False}, 'amedront': {False}, 'ameac': {False}, 'deix': {True}, 'apavor': {True}, 'lug': {False}, 'perd': {False}, 'outr': {False}, 'jog': {False}, 'elimin': {False}, 'pav': {False}, 'tom': {False}, 'cuid': {False}, 'lobisom': {False}, 'descobr': {False}, 'encrenc': {False}, 'trem': {False}, 'med': {False}}, 'medo')\n",
            "({'admir': {False}, 'muit': {False}, 'sint': {False}, 'complet': {False}, 'am': {False}, 'maravilh': {False}, 'sent': {False}, 'anim': {False}, 'nov': {False}, 'bem': {False}, 'hoj': {False}, 'bel': {False}, 'dia': {False}, 'dirig': {False}, 'carr': {False}, 'bonit': {False}, 'cont': {False}, 'result': {False}, 'test': {False}, 'fiz': {False}, 'ont': {False}, 'lind': {False}, 'amizad': {False}, 'vai': {False}, 'dur': {False}, 'sempr': {False}, 'amedront': {False}, 'ameac': {False}, 'deix': {False}, 'apavor': {True}, 'lug': {True}, 'perd': {False}, 'outr': {False}, 'jog': {False}, 'elimin': {False}, 'pav': {False}, 'tom': {False}, 'cuid': {False}, 'lobisom': {False}, 'descobr': {False}, 'encrenc': {False}, 'trem': {False}, 'med': {False}}, 'medo')\n",
            "({'admir': {False}, 'muit': {False}, 'sint': {False}, 'complet': {False}, 'am': {False}, 'maravilh': {False}, 'sent': {False}, 'anim': {False}, 'nov': {False}, 'bem': {False}, 'hoj': {False}, 'bel': {False}, 'dia': {False}, 'dirig': {False}, 'carr': {False}, 'bonit': {False}, 'cont': {False}, 'result': {False}, 'test': {False}, 'fiz': {False}, 'ont': {False}, 'lind': {False}, 'amizad': {False}, 'vai': {False}, 'dur': {False}, 'sempr': {False}, 'amedront': {False}, 'ameac': {False}, 'deix': {True}, 'apavor': {False}, 'lug': {False}, 'perd': {True}, 'outr': {True}, 'jog': {True}, 'elimin': {True}, 'pav': {True}, 'tom': {False}, 'cuid': {False}, 'lobisom': {False}, 'descobr': {False}, 'encrenc': {False}, 'trem': {False}, 'med': {False}}, 'medo')\n",
            "({'admir': {False}, 'muit': {False}, 'sint': {False}, 'complet': {False}, 'am': {False}, 'maravilh': {False}, 'sent': {False}, 'anim': {False}, 'nov': {False}, 'bem': {False}, 'hoj': {False}, 'bel': {False}, 'dia': {False}, 'dirig': {False}, 'carr': {False}, 'bonit': {False}, 'cont': {False}, 'result': {False}, 'test': {False}, 'fiz': {False}, 'ont': {False}, 'lind': {False}, 'amizad': {False}, 'vai': {False}, 'dur': {False}, 'sempr': {False}, 'amedront': {False}, 'ameac': {False}, 'deix': {False}, 'apavor': {False}, 'lug': {False}, 'perd': {False}, 'outr': {False}, 'jog': {False}, 'elimin': {False}, 'pav': {False}, 'tom': {True}, 'cuid': {True}, 'lobisom': {True}, 'descobr': {False}, 'encrenc': {False}, 'trem': {False}, 'med': {False}}, 'medo')\n",
            "({'admir': {False}, 'muit': {False}, 'sint': {False}, 'complet': {False}, 'am': {False}, 'maravilh': {False}, 'sent': {False}, 'anim': {False}, 'nov': {False}, 'bem': {False}, 'hoj': {False}, 'bel': {False}, 'dia': {False}, 'dirig': {False}, 'carr': {False}, 'bonit': {False}, 'cont': {False}, 'result': {False}, 'test': {False}, 'fiz': {False}, 'ont': {False}, 'lind': {False}, 'amizad': {False}, 'vai': {False}, 'dur': {False}, 'sempr': {False}, 'amedront': {False}, 'ameac': {False}, 'deix': {False}, 'apavor': {False}, 'lug': {False}, 'perd': {False}, 'outr': {False}, 'jog': {False}, 'elimin': {False}, 'pav': {False}, 'tom': {False}, 'cuid': {False}, 'lobisom': {False}, 'descobr': {True}, 'encrenc': {True}, 'trem': {False}, 'med': {False}}, 'medo')\n",
            "({'admir': {False}, 'muit': {False}, 'sint': {False}, 'complet': {False}, 'am': {False}, 'maravilh': {False}, 'sent': {False}, 'anim': {False}, 'nov': {False}, 'bem': {False}, 'hoj': {False}, 'bel': {False}, 'dia': {False}, 'dirig': {False}, 'carr': {False}, 'bonit': {False}, 'cont': {False}, 'result': {False}, 'test': {False}, 'fiz': {False}, 'ont': {False}, 'lind': {False}, 'amizad': {False}, 'vai': {False}, 'dur': {False}, 'sempr': {False}, 'amedront': {False}, 'ameac': {False}, 'deix': {False}, 'apavor': {False}, 'lug': {False}, 'perd': {False}, 'outr': {False}, 'jog': {False}, 'elimin': {False}, 'pav': {False}, 'tom': {False}, 'cuid': {False}, 'lobisom': {False}, 'descobr': {False}, 'encrenc': {False}, 'trem': {True}, 'med': {True}}, 'medo')\n",
            "({'admir': {False}, 'muit': {False}, 'sint': {False}, 'complet': {False}, 'am': {False}, 'maravilh': {False}, 'sent': {False}, 'anim': {False}, 'nov': {False}, 'bem': {False}, 'hoj': {False}, 'bel': {False}, 'dia': {False}, 'dirig': {False}, 'carr': {False}, 'bonit': {False}, 'cont': {False}, 'result': {False}, 'test': {False}, 'fiz': {False}, 'ont': {False}, 'lind': {False}, 'amizad': {False}, 'vai': {False}, 'dur': {False}, 'sempr': {False}, 'amedront': {False}, 'ameac': {False}, 'deix': {False}, 'apavor': {False}, 'lug': {False}, 'perd': {False}, 'outr': {False}, 'jog': {False}, 'elimin': {False}, 'pav': {False}, 'tom': {False}, 'cuid': {False}, 'lobisom': {False}, 'descobr': {False}, 'encrenc': {False}, 'trem': {False}, 'med': {True}}, 'medo')\n",
            "({'admir': {False}, 'muit': {False}, 'sint': {False}, 'complet': {False}, 'am': {False}, 'maravilh': {False}, 'sent': {False}, 'anim': {False}, 'nov': {False}, 'bem': {False}, 'hoj': {False}, 'bel': {False}, 'dia': {False}, 'dirig': {False}, 'carr': {False}, 'bonit': {False}, 'cont': {False}, 'result': {True}, 'test': {True}, 'fiz': {False}, 'ont': {False}, 'lind': {False}, 'amizad': {False}, 'vai': {False}, 'dur': {False}, 'sempr': {False}, 'amedront': {False}, 'ameac': {False}, 'deix': {False}, 'apavor': {False}, 'lug': {False}, 'perd': {False}, 'outr': {False}, 'jog': {False}, 'elimin': {False}, 'pav': {False}, 'tom': {False}, 'cuid': {False}, 'lobisom': {False}, 'descobr': {False}, 'encrenc': {False}, 'trem': {False}, 'med': {True}}, 'medo')\n"
          ],
          "name": "stdout"
        },
        {
          "output_type": "execute_result",
          "data": {
            "text/plain": [
              "[None,\n",
              " None,\n",
              " None,\n",
              " None,\n",
              " None,\n",
              " None,\n",
              " None,\n",
              " None,\n",
              " None,\n",
              " None,\n",
              " None,\n",
              " None,\n",
              " None,\n",
              " None,\n",
              " None,\n",
              " None,\n",
              " None,\n",
              " None,\n",
              " None,\n",
              " None]"
            ]
          },
          "metadata": {
            "tags": []
          },
          "execution_count": 19
        }
      ]
    }
  ]
}